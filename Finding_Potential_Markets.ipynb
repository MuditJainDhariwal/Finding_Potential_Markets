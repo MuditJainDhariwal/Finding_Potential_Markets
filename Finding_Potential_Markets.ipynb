{
 "cells": [
  {
   "cell_type": "markdown",
   "metadata": {},
   "source": [
    "# Analysing potential markets to invest in"
   ]
  },
  {
   "cell_type": "markdown",
   "metadata": {},
   "source": [
    "It is our passion to empower people digitally. We believe, if people can master the basics of programming they can work on their passions (eye catching animated movies, jaw dropping games, insightful and good-feeling educational programs and whatever more one can imagine ).  \n",
    "We do that by empowering people with coding skills in multiple areas like web & mobile development, game development, data sceince, analytics etc.\n",
    "\n",
    "We are a relatively new company with big dreams but a small budget. Therefore, the goal of this project is to find those who needs us the most. We will run basic statistical analysis in this project to find out two market segments that are filled with enthusiasts who are eager to learn with the ability to afford it at the same time."
   ]
  },
  {
   "cell_type": "markdown",
   "metadata": {},
   "source": [
    "## Dataset: freeCodeCamp's 2017 New Coder Survey\n",
    "\n",
    "The survey was undertaken by freeCodeCamp which contains data about different topics people are interested to learn. This is an ideal dataset because it is relatively new and contains a wide array of choices to consider from."
   ]
  },
  {
   "cell_type": "code",
   "execution_count": 1,
   "metadata": {
    "collapsed": false
   },
   "outputs": [
    {
     "name": "stdout",
     "output_type": "stream",
     "text": [
      "No. of rows and columns:(18175, 136)\n"
     ]
    },
    {
     "data": {
      "text/html": [
       "<div>\n",
       "<style scoped>\n",
       "    .dataframe tbody tr th:only-of-type {\n",
       "        vertical-align: middle;\n",
       "    }\n",
       "\n",
       "    .dataframe tbody tr th {\n",
       "        vertical-align: top;\n",
       "    }\n",
       "\n",
       "    .dataframe thead th {\n",
       "        text-align: right;\n",
       "    }\n",
       "</style>\n",
       "<table border=\"1\" class=\"dataframe\">\n",
       "  <thead>\n",
       "    <tr style=\"text-align: right;\">\n",
       "      <th></th>\n",
       "      <th>Age</th>\n",
       "      <th>AttendedBootcamp</th>\n",
       "      <th>BootcampFinish</th>\n",
       "      <th>BootcampLoanYesNo</th>\n",
       "      <th>BootcampName</th>\n",
       "      <th>BootcampRecommend</th>\n",
       "      <th>ChildrenNumber</th>\n",
       "      <th>CityPopulation</th>\n",
       "      <th>CodeEventConferences</th>\n",
       "      <th>CodeEventDjangoGirls</th>\n",
       "      <th>...</th>\n",
       "      <th>YouTubeFCC</th>\n",
       "      <th>YouTubeFunFunFunction</th>\n",
       "      <th>YouTubeGoogleDev</th>\n",
       "      <th>YouTubeLearnCode</th>\n",
       "      <th>YouTubeLevelUpTuts</th>\n",
       "      <th>YouTubeMIT</th>\n",
       "      <th>YouTubeMozillaHacks</th>\n",
       "      <th>YouTubeOther</th>\n",
       "      <th>YouTubeSimplilearn</th>\n",
       "      <th>YouTubeTheNewBoston</th>\n",
       "    </tr>\n",
       "  </thead>\n",
       "  <tbody>\n",
       "    <tr>\n",
       "      <th>0</th>\n",
       "      <td>27.0</td>\n",
       "      <td>0.0</td>\n",
       "      <td>NaN</td>\n",
       "      <td>NaN</td>\n",
       "      <td>NaN</td>\n",
       "      <td>NaN</td>\n",
       "      <td>NaN</td>\n",
       "      <td>more than 1 million</td>\n",
       "      <td>NaN</td>\n",
       "      <td>NaN</td>\n",
       "      <td>...</td>\n",
       "      <td>NaN</td>\n",
       "      <td>NaN</td>\n",
       "      <td>NaN</td>\n",
       "      <td>NaN</td>\n",
       "      <td>NaN</td>\n",
       "      <td>NaN</td>\n",
       "      <td>NaN</td>\n",
       "      <td>NaN</td>\n",
       "      <td>NaN</td>\n",
       "      <td>NaN</td>\n",
       "    </tr>\n",
       "    <tr>\n",
       "      <th>1</th>\n",
       "      <td>34.0</td>\n",
       "      <td>0.0</td>\n",
       "      <td>NaN</td>\n",
       "      <td>NaN</td>\n",
       "      <td>NaN</td>\n",
       "      <td>NaN</td>\n",
       "      <td>NaN</td>\n",
       "      <td>less than 100,000</td>\n",
       "      <td>NaN</td>\n",
       "      <td>NaN</td>\n",
       "      <td>...</td>\n",
       "      <td>1.0</td>\n",
       "      <td>NaN</td>\n",
       "      <td>NaN</td>\n",
       "      <td>NaN</td>\n",
       "      <td>NaN</td>\n",
       "      <td>NaN</td>\n",
       "      <td>NaN</td>\n",
       "      <td>NaN</td>\n",
       "      <td>NaN</td>\n",
       "      <td>NaN</td>\n",
       "    </tr>\n",
       "    <tr>\n",
       "      <th>2</th>\n",
       "      <td>21.0</td>\n",
       "      <td>0.0</td>\n",
       "      <td>NaN</td>\n",
       "      <td>NaN</td>\n",
       "      <td>NaN</td>\n",
       "      <td>NaN</td>\n",
       "      <td>NaN</td>\n",
       "      <td>more than 1 million</td>\n",
       "      <td>NaN</td>\n",
       "      <td>NaN</td>\n",
       "      <td>...</td>\n",
       "      <td>NaN</td>\n",
       "      <td>NaN</td>\n",
       "      <td>NaN</td>\n",
       "      <td>1.0</td>\n",
       "      <td>1.0</td>\n",
       "      <td>NaN</td>\n",
       "      <td>NaN</td>\n",
       "      <td>NaN</td>\n",
       "      <td>NaN</td>\n",
       "      <td>NaN</td>\n",
       "    </tr>\n",
       "    <tr>\n",
       "      <th>3</th>\n",
       "      <td>26.0</td>\n",
       "      <td>0.0</td>\n",
       "      <td>NaN</td>\n",
       "      <td>NaN</td>\n",
       "      <td>NaN</td>\n",
       "      <td>NaN</td>\n",
       "      <td>NaN</td>\n",
       "      <td>between 100,000 and 1 million</td>\n",
       "      <td>NaN</td>\n",
       "      <td>NaN</td>\n",
       "      <td>...</td>\n",
       "      <td>1.0</td>\n",
       "      <td>1.0</td>\n",
       "      <td>NaN</td>\n",
       "      <td>NaN</td>\n",
       "      <td>1.0</td>\n",
       "      <td>NaN</td>\n",
       "      <td>NaN</td>\n",
       "      <td>NaN</td>\n",
       "      <td>NaN</td>\n",
       "      <td>NaN</td>\n",
       "    </tr>\n",
       "    <tr>\n",
       "      <th>4</th>\n",
       "      <td>20.0</td>\n",
       "      <td>0.0</td>\n",
       "      <td>NaN</td>\n",
       "      <td>NaN</td>\n",
       "      <td>NaN</td>\n",
       "      <td>NaN</td>\n",
       "      <td>NaN</td>\n",
       "      <td>between 100,000 and 1 million</td>\n",
       "      <td>NaN</td>\n",
       "      <td>NaN</td>\n",
       "      <td>...</td>\n",
       "      <td>NaN</td>\n",
       "      <td>NaN</td>\n",
       "      <td>NaN</td>\n",
       "      <td>NaN</td>\n",
       "      <td>NaN</td>\n",
       "      <td>NaN</td>\n",
       "      <td>NaN</td>\n",
       "      <td>NaN</td>\n",
       "      <td>NaN</td>\n",
       "      <td>NaN</td>\n",
       "    </tr>\n",
       "  </tbody>\n",
       "</table>\n",
       "<p>5 rows × 136 columns</p>\n",
       "</div>"
      ],
      "text/plain": [
       "    Age  AttendedBootcamp  BootcampFinish  BootcampLoanYesNo BootcampName  \\\n",
       "0  27.0               0.0             NaN                NaN          NaN   \n",
       "1  34.0               0.0             NaN                NaN          NaN   \n",
       "2  21.0               0.0             NaN                NaN          NaN   \n",
       "3  26.0               0.0             NaN                NaN          NaN   \n",
       "4  20.0               0.0             NaN                NaN          NaN   \n",
       "\n",
       "   BootcampRecommend  ChildrenNumber                 CityPopulation  \\\n",
       "0                NaN             NaN            more than 1 million   \n",
       "1                NaN             NaN              less than 100,000   \n",
       "2                NaN             NaN            more than 1 million   \n",
       "3                NaN             NaN  between 100,000 and 1 million   \n",
       "4                NaN             NaN  between 100,000 and 1 million   \n",
       "\n",
       "   CodeEventConferences  CodeEventDjangoGirls         ...           \\\n",
       "0                   NaN                   NaN         ...            \n",
       "1                   NaN                   NaN         ...            \n",
       "2                   NaN                   NaN         ...            \n",
       "3                   NaN                   NaN         ...            \n",
       "4                   NaN                   NaN         ...            \n",
       "\n",
       "   YouTubeFCC  YouTubeFunFunFunction  YouTubeGoogleDev  YouTubeLearnCode  \\\n",
       "0         NaN                    NaN               NaN               NaN   \n",
       "1         1.0                    NaN               NaN               NaN   \n",
       "2         NaN                    NaN               NaN               1.0   \n",
       "3         1.0                    1.0               NaN               NaN   \n",
       "4         NaN                    NaN               NaN               NaN   \n",
       "\n",
       "   YouTubeLevelUpTuts  YouTubeMIT  YouTubeMozillaHacks YouTubeOther  \\\n",
       "0                 NaN         NaN                  NaN          NaN   \n",
       "1                 NaN         NaN                  NaN          NaN   \n",
       "2                 1.0         NaN                  NaN          NaN   \n",
       "3                 1.0         NaN                  NaN          NaN   \n",
       "4                 NaN         NaN                  NaN          NaN   \n",
       "\n",
       "   YouTubeSimplilearn  YouTubeTheNewBoston  \n",
       "0                 NaN                  NaN  \n",
       "1                 NaN                  NaN  \n",
       "2                 NaN                  NaN  \n",
       "3                 NaN                  NaN  \n",
       "4                 NaN                  NaN  \n",
       "\n",
       "[5 rows x 136 columns]"
      ]
     },
     "execution_count": 1,
     "metadata": {},
     "output_type": "execute_result"
    }
   ],
   "source": [
    "import pandas as pd\n",
    "\n",
    "survey = pd.read_csv('2017-fCC-New-Coders-Survey-Data.csv', low_memory = 0)\n",
    "print(\"No. of rows and columns:\" + str(survey.shape))\n",
    "survey.head()"
   ]
  },
  {
   "cell_type": "markdown",
   "metadata": {
    "collapsed": true
   },
   "source": [
    "Most of the courses we offer are on web and mobile development, but we also cover many other domains, like data science, game development, etc. For the purpose of our analysis, we want to answer questions about the population of new coders that are interested in the subjects we teach. We'd like to know:\n",
    "\n",
    "1. Where are these new coders located?\n",
    "2. What are the locations with the greatest number of new coders?\n",
    "3. How much money new coders are willing to spend on learning?"
   ]
  },
  {
   "cell_type": "code",
   "execution_count": 2,
   "metadata": {
    "collapsed": false
   },
   "outputs": [
    {
     "data": {
      "text/plain": [
       "Full-Stack Web Developer                                                                                                                                                                                                                                                                              11.770595\n",
       "  Front-End Web Developer                                                                                                                                                                                                                                                                              6.435927\n",
       "  Data Scientist                                                                                                                                                                                                                                                                                       2.173913\n",
       "Back-End Web Developer                                                                                                                                                                                                                                                                                 2.030892\n",
       "  Mobile Developer                                                                                                                                                                                                                                                                                     1.673341\n",
       "Game Developer                                                                                                                                                                                                                                                                                         1.630435\n",
       "Information Security                                                                                                                                                                                                                                                                                   1.315789\n",
       "Full-Stack Web Developer,   Front-End Web Developer                                                                                                                                                                                                                                                    0.915332\n",
       "  Front-End Web Developer, Full-Stack Web Developer                                                                                                                                                                                                                                                    0.800915\n",
       "  Product Manager                                                                                                                                                                                                                                                                                      0.786613\n",
       "Data Engineer                                                                                                                                                                                                                                                                                          0.758009\n",
       "  User Experience Designer                                                                                                                                                                                                                                                                             0.743707\n",
       "  User Experience Designer,   Front-End Web Developer                                                                                                                                                                                                                                                  0.614989\n",
       "  Front-End Web Developer, Back-End Web Developer, Full-Stack Web Developer                                                                                                                                                                                                                            0.557780\n",
       "Back-End Web Developer, Full-Stack Web Developer,   Front-End Web Developer                                                                                                                                                                                                                            0.514874\n",
       "Back-End Web Developer,   Front-End Web Developer, Full-Stack Web Developer                                                                                                                                                                                                                            0.514874\n",
       "  DevOps / SysAdmin                                                                                                                                                                                                                                                                                    0.514874\n",
       "Full-Stack Web Developer,   Front-End Web Developer, Back-End Web Developer                                                                                                                                                                                                                            0.443364\n",
       "  Front-End Web Developer, Full-Stack Web Developer, Back-End Web Developer                                                                                                                                                                                                                            0.429062\n",
       "Full-Stack Web Developer,   Mobile Developer                                                                                                                                                                                                                                                           0.414760\n",
       "  Front-End Web Developer,   User Experience Designer                                                                                                                                                                                                                                                  0.414760\n",
       "Back-End Web Developer, Full-Stack Web Developer                                                                                                                                                                                                                                                       0.386156\n",
       "Full-Stack Web Developer, Back-End Web Developer                                                                                                                                                                                                                                                       0.371854\n",
       "Back-End Web Developer,   Front-End Web Developer                                                                                                                                                                                                                                                      0.286041\n",
       "Data Engineer,   Data Scientist                                                                                                                                                                                                                                                                        0.271739\n",
       "Full-Stack Web Developer, Back-End Web Developer,   Front-End Web Developer                                                                                                                                                                                                                            0.271739\n",
       "  Front-End Web Developer,   Mobile Developer                                                                                                                                                                                                                                                          0.257437\n",
       "Full-Stack Web Developer,   Data Scientist                                                                                                                                                                                                                                                             0.243135\n",
       "  Data Scientist, Data Engineer                                                                                                                                                                                                                                                                        0.228833\n",
       "  Mobile Developer, Game Developer                                                                                                                                                                                                                                                                     0.228833\n",
       "                                                                                                                                                                                                                                                                                                        ...    \n",
       "  Mobile Developer, Game Developer,   Data Scientist,   Front-End Web Developer, Data Engineer                                                                                                                                                                                                         0.014302\n",
       "Data Engineer, Full-Stack Web Developer, Back-End Web Developer, Information Security,   Quality Assurance Engineer                                                                                                                                                                                    0.014302\n",
       "Information Security,   Mobile Developer, Data Engineer                                                                                                                                                                                                                                                0.014302\n",
       "Data Engineer,   DevOps / SysAdmin,   Data Scientist, Game Developer,   Front-End Web Developer                                                                                                                                                                                                        0.014302\n",
       "Information Security,   Mobile Developer,   DevOps / SysAdmin, Data Engineer, Game Developer,   Data Scientist,   Front-End Web Developer,   User Experience Designer, Back-End Web Developer                                                                                                          0.014302\n",
       "  Data Scientist, Data Engineer,   Mobile Developer, Full-Stack Web Developer, Information Security,   Front-End Web Developer, Back-End Web Developer                                                                                                                                                 0.014302\n",
       "  Mobile Developer, Back-End Web Developer,   DevOps / SysAdmin, Game Developer, Full-Stack Web Developer,   Front-End Web Developer                                                                                                                                                                   0.014302\n",
       "Data Engineer, Game Developer,   Data Scientist, Back-End Web Developer,   Front-End Web Developer, Full-Stack Web Developer,   User Experience Designer                                                                                                                                               0.014302\n",
       "  Data Scientist,   Mobile Developer, Back-End Web Developer,   DevOps / SysAdmin, Data Engineer, Information Security, Full-Stack Web Developer                                                                                                                                                       0.014302\n",
       "Back-End Web Developer,   Product Manager                                                                                                                                                                                                                                                              0.014302\n",
       "Data Engineer, Information Security,   Data Scientist,   DevOps / SysAdmin,   Product Manager,   Quality Assurance Engineer, Back-End Web Developer,   User Experience Designer,   Front-End Web Developer,   Mobile Developer, Game Developer, Full-Stack Web Developer, Anything that engages me     0.014302\n",
       "Back-End Web Developer, Data Engineer,   Mobile Developer,   Data Scientist, Full-Stack Web Developer                                                                                                                                                                                                  0.014302\n",
       "Back-End Web Developer,   Mobile Developer, Full-Stack Web Developer, Game Developer, Information Security,   Front-End Web Developer                                                                                                                                                                  0.014302\n",
       "Game Developer,   Front-End Web Developer, Back-End Web Developer, Full-Stack Web Developer, Information Security,   Product Manager,   Mobile Developer                                                                                                                                               0.014302\n",
       "  DevOps / SysAdmin, Back-End Web Developer, Game Developer,   Mobile Developer, Full-Stack Web Developer,   User Experience Designer                                                                                                                                                                  0.014302\n",
       "Back-End Web Developer,   Product Manager,   User Experience Designer                                                                                                                                                                                                                                  0.014302\n",
       "Information Security, Back-End Web Developer, Full-Stack Web Developer,   User Experience Designer,   Front-End Web Developer                                                                                                                                                                          0.014302\n",
       "Game Developer,   Front-End Web Developer, Data Engineer, Information Security,   Mobile Developer, Back-End Web Developer                                                                                                                                                                             0.014302\n",
       "Full-Stack Web Developer, computer engineer                                                                                                                                                                                                                                                            0.014302\n",
       "  Front-End Web Developer, Back-End Web Developer, Full-Stack Web Developer, Data Engineer,   Data Scientist                                                                                                                                                                                           0.014302\n",
       "  Mobile Developer, Back-End Web Developer,   Front-End Web Developer,   Product Manager, Full-Stack Web Developer                                                                                                                                                                                     0.014302\n",
       "Back-End Web Developer,   Product Manager, Full-Stack Web Developer, Information Security,   DevOps / SysAdmin,   Quality Assurance Engineer, Data Engineer,   Data Scientist,   User Experience Designer,   Front-End Web Developer                                                                   0.014302\n",
       "  DevOps / SysAdmin,   Mobile Developer, Full-Stack Web Developer, Game Developer                                                                                                                                                                                                                      0.014302\n",
       "  Front-End Web Developer,   Data Scientist, Full-Stack Web Developer,   Quality Assurance Engineer,   Mobile Developer,   User Experience Designer                                                                                                                                                    0.014302\n",
       "Game Developer, Information Security,   Mobile Developer,   Front-End Web Developer, Back-End Web Developer,   Product Manager,   DevOps / SysAdmin                                                                                                                                                    0.014302\n",
       "  Front-End Web Developer, Back-End Web Developer,   Mobile Developer, Full-Stack Web Developer,   Quality Assurance Engineer                                                                                                                                                                          0.014302\n",
       "  Front-End Web Developer, Back-End Web Developer, Full-Stack Web Developer,   User Experience Designer,   DevOps / SysAdmin                                                                                                                                                                           0.014302\n",
       "  Front-End Web Developer, Full-Stack Web Developer,   Mobile Developer, Game Developer, Back-End Web Developer                                                                                                                                                                                        0.014302\n",
       "  Front-End Web Developer,   Product Manager, Data Engineer,   Data Scientist, Full-Stack Web Developer, Back-End Web Developer, Information Security,   Mobile Developer,   Quality Assurance Engineer, Game Developer,   User Experience Designer,   DevOps / SysAdmin                               0.014302\n",
       "Game Developer, Data Engineer,   Mobile Developer                                                                                                                                                                                                                                                      0.014302\n",
       "Name: JobRoleInterest, Length: 3213, dtype: float64"
      ]
     },
     "execution_count": 2,
     "metadata": {},
     "output_type": "execute_result"
    }
   ],
   "source": [
    "survey[\"JobRoleInterest\"].value_counts(normalize = True) * 100"
   ]
  },
  {
   "cell_type": "markdown",
   "metadata": {},
   "source": [
    "The data indicates that there are a lot of people with multiple interested areas. It would be appropriate to map out the number of people with multiple interests and how many different interests they may have. "
   ]
  },
  {
   "cell_type": "code",
   "execution_count": 3,
   "metadata": {
    "collapsed": false
   },
   "outputs": [
    {
     "data": {
      "text/plain": [
       "1     31.650458\n",
       "3     15.889588\n",
       "4     15.217391\n",
       "5     12.042334\n",
       "2     10.883867\n",
       "6      6.721968\n",
       "7      3.861556\n",
       "8      1.759153\n",
       "9      0.986842\n",
       "10     0.471968\n",
       "12     0.300343\n",
       "11     0.185927\n",
       "13     0.028604\n",
       "Name: JobRoleInterest, dtype: float64"
      ]
     },
     "execution_count": 3,
     "metadata": {},
     "output_type": "execute_result"
    }
   ],
   "source": [
    "valid_data = survey[\"JobRoleInterest\"].dropna()\n",
    "No_of_interests = valid_data.str.count(\",\") + 1\n",
    "No_of_interests.value_counts(normalize = True) * 100\n"
   ]
  },
  {
   "cell_type": "markdown",
   "metadata": {},
   "source": [
    "Atleast 30% of the market is interested in 3 to 4 topics which is a significant ratio and should not be ignored. Since, our main focus is on the web and mobile development courses, it would be better to figure out how many people are interested in at least one of these courses."
   ]
  },
  {
   "cell_type": "code",
   "execution_count": 4,
   "metadata": {
    "collapsed": false
   },
   "outputs": [],
   "source": [
    "freq = valid_data.str.contains(\n",
    "                               \"Mobile Developer | Web Developer\")"
   ]
  },
  {
   "cell_type": "code",
   "execution_count": 5,
   "metadata": {
    "collapsed": false
   },
   "outputs": [],
   "source": [
    "freq_table = freq.value_counts(normalize = True) * 100"
   ]
  },
  {
   "cell_type": "code",
   "execution_count": 6,
   "metadata": {
    "collapsed": false
   },
   "outputs": [
    {
     "data": {
      "text/plain": [
       "True     82.608696\n",
       "False    17.391304\n",
       "Name: JobRoleInterest, dtype: float64"
      ]
     },
     "execution_count": 6,
     "metadata": {},
     "output_type": "execute_result"
    }
   ],
   "source": [
    "freq_table"
   ]
  },
  {
   "cell_type": "code",
   "execution_count": 7,
   "metadata": {
    "collapsed": false
   },
   "outputs": [
    {
     "data": {
      "image/png": "[encoded data removed]",
      "text/plain": [
       "<matplotlib.figure.Figure at 0x7f17f05a1ba8>"
      ]
     },
     "metadata": {},
     "output_type": "display_data"
    }
   ],
   "source": [
    "import matplotlib.pyplot as plt\n",
    "%matplotlib inline\n",
    "\n",
    "freq_table.plot.bar()\n",
    "plt.ylabel(\"Percentage\")\n",
    "plt.ylim([0,100])\n",
    "plt.xticks([0,1], [\"Web and Mobile Development\", \"Other Subjects\"])\n",
    "plt.title(\"Percentage of people intersted in learning different subjects\", \n",
    "         y = 1.05)\n",
    "plt.show()"
   ]
  },
  {
   "cell_type": "markdown",
   "metadata": {},
   "source": [
    "The chart and the analysis shows that more than 80% of people are interested in either learning web or mobile development. This is a good indication and confirms that sample is relevant to our population analysis. However, this is still a sample data and actual representation could be higher or lower and this fact must always be accounted before making any decision."
   ]
  },
  {
   "cell_type": "markdown",
   "metadata": {
    "collapsed": true
   },
   "source": [
    "## Figuring out the right market"
   ]
  },
  {
   "cell_type": "markdown",
   "metadata": {},
   "source": [
    "We have established that the sample is worth exploring further. Next, we must figure out which market can give us the highest revenue potential. Therefore, let's investigate where do most of the respondents live."
   ]
  },
  {
   "cell_type": "code",
   "execution_count": 8,
   "metadata": {
    "collapsed": false
   },
   "outputs": [],
   "source": [
    "market_data = survey[~pd.isnull(survey[\"JobRoleInterest\"])]"
   ]
  },
  {
   "cell_type": "code",
   "execution_count": 9,
   "metadata": {
    "collapsed": false
   },
   "outputs": [
    {
     "data": {
      "text/plain": [
       "United States of America         3125\n",
       "India                             528\n",
       "United Kingdom                    315\n",
       "Canada                            260\n",
       "Poland                            131\n",
       "Brazil                            129\n",
       "Germany                           125\n",
       "Australia                         112\n",
       "Russia                            102\n",
       "Ukraine                            89\n",
       "Nigeria                            84\n",
       "Spain                              77\n",
       "France                             75\n",
       "Romania                            71\n",
       "Netherlands (Holland, Europe)      65\n",
       "Italy                              62\n",
       "Serbia                             52\n",
       "Philippines                        52\n",
       "Greece                             46\n",
       "Ireland                            43\n",
       "South Africa                       39\n",
       "Mexico                             37\n",
       "Turkey                             36\n",
       "Singapore                          34\n",
       "Hungary                            34\n",
       "New Zealand                        33\n",
       "Croatia                            32\n",
       "Argentina                          32\n",
       "Sweden                             31\n",
       "Indonesia                          31\n",
       "                                 ... \n",
       "Botswana                            1\n",
       "Panama                              1\n",
       "Turkmenistan                        1\n",
       "Sudan                               1\n",
       "Rwanda                              1\n",
       "Somalia                             1\n",
       "Cameroon                            1\n",
       "Cayman Islands                      1\n",
       "Nicaragua                           1\n",
       "Gibraltar                           1\n",
       "Samoa                               1\n",
       "Jordan                              1\n",
       "Yemen                               1\n",
       "Channel Islands                     1\n",
       "Nambia                              1\n",
       "Guatemala                           1\n",
       "Angola                              1\n",
       "Qatar                               1\n",
       "Anguilla                            1\n",
       "Papua New Guinea                    1\n",
       "Cuba                                1\n",
       "Vanuatu                             1\n",
       "Trinidad & Tobago                   1\n",
       "Liberia                             1\n",
       "Mozambique                          1\n",
       "Bolivia                             1\n",
       "Guadeloupe                          1\n",
       "Myanmar                             1\n",
       "Aruba                               1\n",
       "Gambia                              1\n",
       "Name: CountryLive, Length: 137, dtype: int64"
      ]
     },
     "execution_count": 9,
     "metadata": {},
     "output_type": "execute_result"
    }
   ],
   "source": [
    "customer_freq_loc_abs = market_data[\"CountryLive\"].value_counts()\n",
    "customer_freq_loc_abs"
   ]
  },
  {
   "cell_type": "code",
   "execution_count": 10,
   "metadata": {
    "collapsed": false
   },
   "outputs": [
    {
     "data": {
      "text/plain": [
       "United States of America         45.700497\n",
       "India                             7.721556\n",
       "United Kingdom                    4.606610\n",
       "Canada                            3.802281\n",
       "Poland                            1.915765\n",
       "Brazil                            1.886517\n",
       "Germany                           1.828020\n",
       "Australia                         1.637906\n",
       "Russia                            1.491664\n",
       "Ukraine                           1.301550\n",
       "Nigeria                           1.228429\n",
       "Spain                             1.126060\n",
       "France                            1.096812\n",
       "Romania                           1.038315\n",
       "Netherlands (Holland, Europe)     0.950570\n",
       "Italy                             0.906698\n",
       "Serbia                            0.760456\n",
       "Philippines                       0.760456\n",
       "Greece                            0.672711\n",
       "Ireland                           0.628839\n",
       "South Africa                      0.570342\n",
       "Mexico                            0.541094\n",
       "Turkey                            0.526470\n",
       "Singapore                         0.497221\n",
       "Hungary                           0.497221\n",
       "New Zealand                       0.482597\n",
       "Croatia                           0.467973\n",
       "Argentina                         0.467973\n",
       "Sweden                            0.453349\n",
       "Indonesia                         0.453349\n",
       "                                   ...    \n",
       "Botswana                          0.014624\n",
       "Panama                            0.014624\n",
       "Turkmenistan                      0.014624\n",
       "Sudan                             0.014624\n",
       "Rwanda                            0.014624\n",
       "Somalia                           0.014624\n",
       "Cameroon                          0.014624\n",
       "Cayman Islands                    0.014624\n",
       "Nicaragua                         0.014624\n",
       "Gibraltar                         0.014624\n",
       "Samoa                             0.014624\n",
       "Jordan                            0.014624\n",
       "Yemen                             0.014624\n",
       "Channel Islands                   0.014624\n",
       "Nambia                            0.014624\n",
       "Guatemala                         0.014624\n",
       "Angola                            0.014624\n",
       "Qatar                             0.014624\n",
       "Anguilla                          0.014624\n",
       "Papua New Guinea                  0.014624\n",
       "Cuba                              0.014624\n",
       "Vanuatu                           0.014624\n",
       "Trinidad & Tobago                 0.014624\n",
       "Liberia                           0.014624\n",
       "Mozambique                        0.014624\n",
       "Bolivia                           0.014624\n",
       "Guadeloupe                        0.014624\n",
       "Myanmar                           0.014624\n",
       "Aruba                             0.014624\n",
       "Gambia                            0.014624\n",
       "Name: CountryLive, Length: 137, dtype: float64"
      ]
     },
     "execution_count": 10,
     "metadata": {},
     "output_type": "execute_result"
    }
   ],
   "source": [
    "customer_freq_loc_rel = market_data[\"CountryLive\"].value_counts(\n",
    "    normalize = True) * 100\n",
    "customer_freq_loc_rel"
   ]
  },
  {
   "cell_type": "markdown",
   "metadata": {},
   "source": [
    "According to the data, the two markets with most people intersted to learn are United States and India. Assuming a conversion rate of 10%, it would be more beneficial to run ads in these two countries as they are likely to yield most sales. However, at this point we are unsure about how much on average customers in these countries are willing to pay. Understanding this might be even more important because the 3rd and 4th potential market i.e. the U.K. and Canada are not far from India in terms of number of interested customers, but if they are willing to pay higher than Indian customers then business might be more profitable targeting those market segments."
   ]
  },
  {
   "cell_type": "markdown",
   "metadata": {
    "collapsed": true
   },
   "source": [
    "## Figuring out how much students spend on the courses"
   ]
  },
  {
   "cell_type": "markdown",
   "metadata": {},
   "source": [
    "Since we established that most of the people interested in learning are from United States, India, Canada and U.K. It would be beneficial to limit our investigation to only these countries. In addition, all of our courses are written in English which is an official language of all these countries thus, it is an added bonus."
   ]
  },
  {
   "cell_type": "code",
   "execution_count": 11,
   "metadata": {
    "collapsed": false
   },
   "outputs": [
    {
     "data": {
      "text/plain": [
       "United States of America    3125\n",
       "India                        528\n",
       "United Kingdom               315\n",
       "Canada                       260\n",
       "Name: CountryLive, dtype: int64"
      ]
     },
     "execution_count": 11,
     "metadata": {},
     "output_type": "execute_result"
    }
   ],
   "source": [
    "countries = [\"United States of America\", \"India\", \"United Kingdom\", \"Canada\"]\n",
    "db = market_data[market_data[\"CountryLive\"].isin(countries)].copy()\n",
    "db[\"CountryLive\"].value_counts()"
   ]
  },
  {
   "cell_type": "markdown",
   "metadata": {},
   "source": [
    "Need to figure out the amount of money students have spent each month on learning."
   ]
  },
  {
   "cell_type": "code",
   "execution_count": 12,
   "metadata": {
    "collapsed": false
   },
   "outputs": [
    {
     "data": {
      "text/plain": [
       "0.0      150\n",
       "1.0      480\n",
       "2.0      401\n",
       "3.0      380\n",
       "4.0      209\n",
       "5.0      156\n",
       "6.0      397\n",
       "7.0       72\n",
       "8.0      132\n",
       "9.0       70\n",
       "10.0      83\n",
       "11.0      25\n",
       "12.0     386\n",
       "13.0      22\n",
       "14.0      49\n",
       "15.0      45\n",
       "16.0      36\n",
       "17.0      16\n",
       "18.0      92\n",
       "19.0       5\n",
       "20.0      53\n",
       "21.0       5\n",
       "22.0       2\n",
       "23.0       1\n",
       "24.0     267\n",
       "25.0       7\n",
       "26.0       8\n",
       "27.0       4\n",
       "28.0       9\n",
       "29.0       4\n",
       "        ... \n",
       "55.0       3\n",
       "58.0       1\n",
       "59.0       2\n",
       "60.0      47\n",
       "70.0       2\n",
       "72.0      19\n",
       "73.0       1\n",
       "80.0       1\n",
       "83.0       1\n",
       "84.0       4\n",
       "89.0       1\n",
       "96.0       3\n",
       "100.0      4\n",
       "108.0      2\n",
       "111.0      1\n",
       "113.0      1\n",
       "120.0      8\n",
       "144.0      4\n",
       "156.0      1\n",
       "171.0      1\n",
       "180.0      1\n",
       "190.0      1\n",
       "198.0      1\n",
       "200.0      4\n",
       "240.0      2\n",
       "300.0      1\n",
       "360.0      3\n",
       "408.0      1\n",
       "480.0      2\n",
       "744.0      3\n",
       "Name: MonthsProgramming, Length: 80, dtype: int64"
      ]
     },
     "execution_count": 12,
     "metadata": {},
     "output_type": "execute_result"
    }
   ],
   "source": [
    "db[\"MonthsProgramming\"].value_counts().sort_index()"
   ]
  },
  {
   "cell_type": "code",
   "execution_count": 13,
   "metadata": {
    "collapsed": false
   },
   "outputs": [
    {
     "data": {
      "text/plain": [
       "1.0      630\n",
       "2.0      401\n",
       "3.0      380\n",
       "4.0      209\n",
       "5.0      156\n",
       "6.0      397\n",
       "7.0       72\n",
       "8.0      132\n",
       "9.0       70\n",
       "10.0      83\n",
       "11.0      25\n",
       "12.0     386\n",
       "13.0      22\n",
       "14.0      49\n",
       "15.0      45\n",
       "16.0      36\n",
       "17.0      16\n",
       "18.0      92\n",
       "19.0       5\n",
       "20.0      53\n",
       "21.0       5\n",
       "22.0       2\n",
       "23.0       1\n",
       "24.0     267\n",
       "25.0       7\n",
       "26.0       8\n",
       "27.0       4\n",
       "28.0       9\n",
       "29.0       4\n",
       "30.0      44\n",
       "        ... \n",
       "55.0       3\n",
       "58.0       1\n",
       "59.0       2\n",
       "60.0      47\n",
       "70.0       2\n",
       "72.0      19\n",
       "73.0       1\n",
       "80.0       1\n",
       "83.0       1\n",
       "84.0       4\n",
       "89.0       1\n",
       "96.0       3\n",
       "100.0      4\n",
       "108.0      2\n",
       "111.0      1\n",
       "113.0      1\n",
       "120.0      8\n",
       "144.0      4\n",
       "156.0      1\n",
       "171.0      1\n",
       "180.0      1\n",
       "190.0      1\n",
       "198.0      1\n",
       "200.0      4\n",
       "240.0      2\n",
       "300.0      1\n",
       "360.0      3\n",
       "408.0      1\n",
       "480.0      2\n",
       "744.0      3\n",
       "Name: MonthsProgramming, Length: 79, dtype: int64"
      ]
     },
     "execution_count": 13,
     "metadata": {},
     "output_type": "execute_result"
    }
   ],
   "source": [
    "# here about 150 people have entered 0 in their learning number of months which \n",
    "# could mean they have just started; however, it will cause an error\n",
    "# in division, therefore changing them to 1.\n",
    "def zero_to_one(x):\n",
    "    if x == 0:\n",
    "        return 1\n",
    "    return x\n",
    "\n",
    "#db[\"MonthsProgramming\"] = db[\"MonthsProgramming\"].apply(lambda x : 1 if (x == 0))\n",
    "db[\"MonthsProgramming\"] = db[\"MonthsProgramming\"].apply(zero_to_one)\n",
    "db[\"MonthsProgramming\"].value_counts().sort_index()"
   ]
  },
  {
   "cell_type": "code",
   "execution_count": 14,
   "metadata": {
    "collapsed": false
   },
   "outputs": [
    {
     "name": "stdout",
     "output_type": "stream",
     "text": [
      "Total number of students: 4228\n",
      "Total number of number of with indeterminate amount of money spent: 313\n",
      "No. of students interested in paying: 3915\n"
     ]
    }
   ],
   "source": [
    "db[\"MoneySpentPerMonth\"] = db[\"MoneyForLearning\"] / db[\"MonthsProgramming\"]\n",
    "print(\"Total number of students: \" + str(db.shape[0]))\n",
    "print(\"Total number of number of with indeterminate amount of money spent: \"\n",
    "      + str(db[\"MoneySpentPerMonth\"].isna().sum()))\n",
    "print(\"No. of students interested in paying: \" + \n",
    "      str(db[\"MoneySpentPerMonth\"].count()))"
   ]
  },
  {
   "cell_type": "code",
   "execution_count": 15,
   "metadata": {
    "collapsed": false
   },
   "outputs": [
    {
     "data": {
      "text/plain": [
       "0.000000        1844\n",
       "16.666667         82\n",
       "50.000000         76\n",
       "25.000000         74\n",
       "100.000000        68\n",
       "8.333333          67\n",
       "33.333333         64\n",
       "20.000000         59\n",
       "12.500000         51\n",
       "10.000000         48\n",
       "83.333333         47\n",
       "166.666667        47\n",
       "4.166667          38\n",
       "66.666667         38\n",
       "5.000000          37\n",
       "500.000000        32\n",
       "200.000000        31\n",
       "250.000000        29\n",
       "41.666667         28\n",
       "20.833333         27\n",
       "2.500000          26\n",
       "11.111111         26\n",
       "125.000000        25\n",
       "3.333333          22\n",
       "1000.000000       21\n",
       "5.555556          20\n",
       "30.000000         19\n",
       "333.333333        18\n",
       "75.000000         17\n",
       "6.666667          16\n",
       "                ... \n",
       "305.555556         1\n",
       "1080.000000        1\n",
       "180.000000         1\n",
       "11.250000          1\n",
       "2.187500           1\n",
       "10833.333333       1\n",
       "115.000000         1\n",
       "90.000000          1\n",
       "8.750000           1\n",
       "111.000000         1\n",
       "2750.000000        1\n",
       "140.000000         1\n",
       "2.416667           1\n",
       "4166.666667        1\n",
       "33.250000          1\n",
       "233.823529         1\n",
       "4.545455           1\n",
       "4550.000000        1\n",
       "5.714286           1\n",
       "0.138889           1\n",
       "615.384615         1\n",
       "0.909091           1\n",
       "69.444444          1\n",
       "17.333333          1\n",
       "55.833333          1\n",
       "1228.571429        1\n",
       "1571.428571        1\n",
       "14000.000000       1\n",
       "2375.000000        1\n",
       "383.333333         1\n",
       "Name: MoneySpentPerMonth, Length: 387, dtype: int64"
      ]
     },
     "execution_count": 15,
     "metadata": {},
     "output_type": "execute_result"
    }
   ],
   "source": [
    "# removing students whose amount spent is indeterminate \n",
    "db = db[~pd.isnull(db[\"MoneySpentPerMonth\"])]\n",
    "db[\"MoneySpentPerMonth\"].value_counts()"
   ]
  },
  {
   "cell_type": "code",
   "execution_count": 16,
   "metadata": {
    "collapsed": false
   },
   "outputs": [
    {
     "data": {
      "text/html": [
       "<div>\n",
       "<style scoped>\n",
       "    .dataframe tbody tr th:only-of-type {\n",
       "        vertical-align: middle;\n",
       "    }\n",
       "\n",
       "    .dataframe tbody tr th {\n",
       "        vertical-align: top;\n",
       "    }\n",
       "\n",
       "    .dataframe thead th {\n",
       "        text-align: right;\n",
       "    }\n",
       "</style>\n",
       "<table border=\"1\" class=\"dataframe\">\n",
       "  <thead>\n",
       "    <tr style=\"text-align: right;\">\n",
       "      <th></th>\n",
       "      <th>count</th>\n",
       "      <th>mean</th>\n",
       "      <th>std</th>\n",
       "      <th>min</th>\n",
       "      <th>25%</th>\n",
       "      <th>50%</th>\n",
       "      <th>75%</th>\n",
       "      <th>max</th>\n",
       "    </tr>\n",
       "    <tr>\n",
       "      <th>CountryLive</th>\n",
       "      <th></th>\n",
       "      <th></th>\n",
       "      <th></th>\n",
       "      <th></th>\n",
       "      <th></th>\n",
       "      <th></th>\n",
       "      <th></th>\n",
       "      <th></th>\n",
       "    </tr>\n",
       "  </thead>\n",
       "  <tbody>\n",
       "    <tr>\n",
       "      <th>Canada</th>\n",
       "      <td>240.0</td>\n",
       "      <td>113.510961</td>\n",
       "      <td>441.014158</td>\n",
       "      <td>0.0</td>\n",
       "      <td>0.0</td>\n",
       "      <td>0.000000</td>\n",
       "      <td>25.000000</td>\n",
       "      <td>5000.0</td>\n",
       "    </tr>\n",
       "    <tr>\n",
       "      <th>India</th>\n",
       "      <td>463.0</td>\n",
       "      <td>135.100982</td>\n",
       "      <td>692.960378</td>\n",
       "      <td>0.0</td>\n",
       "      <td>0.0</td>\n",
       "      <td>0.000000</td>\n",
       "      <td>13.250000</td>\n",
       "      <td>10000.0</td>\n",
       "    </tr>\n",
       "    <tr>\n",
       "      <th>United Kingdom</th>\n",
       "      <td>279.0</td>\n",
       "      <td>45.534443</td>\n",
       "      <td>162.311836</td>\n",
       "      <td>0.0</td>\n",
       "      <td>0.0</td>\n",
       "      <td>0.000000</td>\n",
       "      <td>20.416667</td>\n",
       "      <td>1400.0</td>\n",
       "    </tr>\n",
       "    <tr>\n",
       "      <th>United States of America</th>\n",
       "      <td>2933.0</td>\n",
       "      <td>227.997996</td>\n",
       "      <td>1940.245614</td>\n",
       "      <td>0.0</td>\n",
       "      <td>0.0</td>\n",
       "      <td>3.333333</td>\n",
       "      <td>50.000000</td>\n",
       "      <td>80000.0</td>\n",
       "    </tr>\n",
       "  </tbody>\n",
       "</table>\n",
       "</div>"
      ],
      "text/plain": [
       "                           count        mean          std  min  25%       50%  \\\n",
       "CountryLive                                                                     \n",
       "Canada                     240.0  113.510961   441.014158  0.0  0.0  0.000000   \n",
       "India                      463.0  135.100982   692.960378  0.0  0.0  0.000000   \n",
       "United Kingdom             279.0   45.534443   162.311836  0.0  0.0  0.000000   \n",
       "United States of America  2933.0  227.997996  1940.245614  0.0  0.0  3.333333   \n",
       "\n",
       "                                75%      max  \n",
       "CountryLive                                   \n",
       "Canada                    25.000000   5000.0  \n",
       "India                     13.250000  10000.0  \n",
       "United Kingdom            20.416667   1400.0  \n",
       "United States of America  50.000000  80000.0  "
      ]
     },
     "execution_count": 16,
     "metadata": {},
     "output_type": "execute_result"
    }
   ],
   "source": [
    "grouped_data = db.groupby('CountryLive')\n",
    "grouped_data.describe()['MoneySpentPerMonth']"
   ]
  },
  {
   "cell_type": "markdown",
   "metadata": {},
   "source": [
    "The maximum amount spent by a person for each country is too high which is possibly an error or outlier which may distort the summary statistics. Let's investigate further by calculating the median and mode."
   ]
  },
  {
   "cell_type": "markdown",
   "metadata": {},
   "source": [
    "## Median"
   ]
  },
  {
   "cell_type": "code",
   "execution_count": 17,
   "metadata": {
    "collapsed": false
   },
   "outputs": [
    {
     "data": {
      "text/plain": [
       "CountryLive\n",
       "Canada                      0.000000\n",
       "India                       0.000000\n",
       "United Kingdom              0.000000\n",
       "United States of America    3.333333\n",
       "Name: MoneySpentPerMonth, dtype: float64"
      ]
     },
     "execution_count": 17,
     "metadata": {},
     "output_type": "execute_result"
    }
   ],
   "source": [
    "grouped_data[\"MoneySpentPerMonth\"].median()"
   ]
  },
  {
   "cell_type": "markdown",
   "metadata": {},
   "source": [
    "Median shows that an average household except in United States is willing to pay 0$ for courses. Even the number in United States is too low."
   ]
  },
  {
   "cell_type": "markdown",
   "metadata": {},
   "source": [
    "## Mode"
   ]
  },
  {
   "cell_type": "code",
   "execution_count": 18,
   "metadata": {
    "collapsed": false
   },
   "outputs": [
    {
     "name": "stdout",
     "output_type": "stream",
     "text": [
      "Mode amount spent by customers in United States of America: 0.0\n",
      "Mode amount spent by customers in India: 0.0\n",
      "Mode amount spent by customers in United Kingdom: 0.0\n",
      "Mode amount spent by customers in Canada: 0.0\n"
     ]
    }
   ],
   "source": [
    "for country in countries:\n",
    "    mode = db[db[\"CountryLive\"] == country][\"MoneySpentPerMonth\"].mode()[0]\n",
    "    print(\"Mode amount spent by customers in \" + country + \": \" + str(mode))"
   ]
  },
  {
   "cell_type": "code",
   "execution_count": 19,
   "metadata": {
    "collapsed": false
   },
   "outputs": [
    {
     "name": "stderr",
     "output_type": "stream",
     "text": [
      "/dataquest/system/env/python3/lib/python3.4/site-packages/seaborn/categorical.py:454: FutureWarning:\n",
      "\n",
      "remove_na is deprecated and is a private function. Do not use.\n",
      "\n"
     ]
    },
    {
     "data": {
      "image/png": "[encoded data removed]",
      "text/plain": [
       "<matplotlib.figure.Figure at 0x7f17f05f0780>"
      ]
     },
     "metadata": {},
     "output_type": "display_data"
    }
   ],
   "source": [
    "import seaborn as sns\n",
    "\n",
    "sns.boxplot(x = \"CountryLive\", y=\"MoneySpentPerMonth\", data= db)\n",
    "plt.title(\"Money Spent by Each Country (in Dollars)\", fontsize = 12)\n",
    "plt.xlabel(\"Countries\")\n",
    "plt.show()"
   ]
  },
  {
   "cell_type": "markdown",
   "metadata": {},
   "source": [
    "From the plot, it could be easily seen that there are two extreme outlying values in United States. A safe range for genuine values can be 20,000."
   ]
  },
  {
   "cell_type": "code",
   "execution_count": 20,
   "metadata": {
    "collapsed": true
   },
   "outputs": [],
   "source": [
    "db = db[db[\"MoneySpentPerMonth\"] < 20000]"
   ]
  },
  {
   "cell_type": "markdown",
   "metadata": {},
   "source": [
    "## Reprinting the plots to see the difference"
   ]
  },
  {
   "cell_type": "code",
   "execution_count": 21,
   "metadata": {
    "collapsed": false
   },
   "outputs": [
    {
     "name": "stderr",
     "output_type": "stream",
     "text": [
      "/dataquest/system/env/python3/lib/python3.4/site-packages/seaborn/categorical.py:454: FutureWarning:\n",
      "\n",
      "remove_na is deprecated and is a private function. Do not use.\n",
      "\n"
     ]
    },
    {
     "data": {
      "image/png": "[encoded data removed]",
      "text/plain": [
       "<matplotlib.figure.Figure at 0x7f17f5c80320>"
      ]
     },
     "metadata": {},
     "output_type": "display_data"
    }
   ],
   "source": [
    "sns.boxplot(x = \"CountryLive\", y=\"MoneySpentPerMonth\", data= db)\n",
    "plt.title(\"Money Spent by Each Country (in Dollars)\", fontsize = 12)\n",
    "plt.xlabel(\"Countries\")\n",
    "plt.show()"
   ]
  },
  {
   "cell_type": "markdown",
   "metadata": {},
   "source": [
    "It is surprising to see that people in India are spending more than people in UK and Canada given their GDP per capita, income level, and socio-economic status are lower in comparison. It might be possible that there is an error in data entry where respondents might have perceived the amount to be in their local currency. Therefore, the data must be further filtered."
   ]
  },
  {
   "cell_type": "code",
   "execution_count": 22,
   "metadata": {
    "collapsed": false
   },
   "outputs": [
    {
     "name": "stderr",
     "output_type": "stream",
     "text": [
      "/dataquest/system/env/python3/lib/python3.4/site-packages/seaborn/categorical.py:454: FutureWarning:\n",
      "\n",
      "remove_na is deprecated and is a private function. Do not use.\n",
      "\n"
     ]
    },
    {
     "data": {
      "image/png": "[encoded data removed]",
      "text/plain": [
       "<matplotlib.figure.Figure at 0x7f17f0617d68>"
      ]
     },
     "metadata": {},
     "output_type": "display_data"
    }
   ],
   "source": [
    "db = db[db[\"MoneySpentPerMonth\"] < 5000]\n",
    "\n",
    "sns.boxplot(x = \"CountryLive\", y=\"MoneySpentPerMonth\", data= db)\n",
    "plt.title(\"Money Spent by Each Country (in Dollars)\", fontsize = 12)\n",
    "plt.xlabel(\"Countries\")\n",
    "plt.show()"
   ]
  },
  {
   "cell_type": "code",
   "execution_count": 23,
   "metadata": {
    "collapsed": false
   },
   "outputs": [
    {
     "data": {
      "text/plain": [
       "CountryLive\n",
       "Canada                       93.065400\n",
       "India                        81.812102\n",
       "United Kingdom               45.534443\n",
       "United States of America    130.639017\n",
       "Name: MoneySpentPerMonth, dtype: float64"
      ]
     },
     "execution_count": 23,
     "metadata": {},
     "output_type": "execute_result"
    }
   ],
   "source": [
    "db.groupby(\"CountryLive\")[\"MoneySpentPerMonth\"].mean()"
   ]
  },
  {
   "cell_type": "markdown",
   "metadata": {},
   "source": [
    "After removing the outliers significantly we have come to a reasonable amount of money spent by each country per person per month. From this it is clear that one of the market should be United States of America."
   ]
  },
  {
   "cell_type": "code",
   "execution_count": 24,
   "metadata": {
    "collapsed": false
   },
   "outputs": [
    {
     "data": {
      "text/plain": [
       "United States of America    2913\n",
       "India                        459\n",
       "United Kingdom               279\n",
       "Canada                       239\n",
       "Name: CountryLive, dtype: int64"
      ]
     },
     "execution_count": 24,
     "metadata": {},
     "output_type": "execute_result"
    }
   ],
   "source": [
    "db[\"CountryLive\"].value_counts()"
   ]
  },
  {
   "cell_type": "markdown",
   "metadata": {},
   "source": [
    "Second market should be \"India\" as the average expenditure is above our subscription proce of $59 with higher number of potential customers."
   ]
  }
 ],
 "metadata": {
  "kernelspec": {
   "display_name": "Python 3",
   "language": "python",
   "name": "python3"
  },
  "language_info": {
   "codemirror_mode": {
    "name": "ipython",
    "version": 3
   },
   "file_extension": ".py",
   "mimetype": "text/x-python",
   "name": "python",
   "nbconvert_exporter": "python",
   "pygments_lexer": "ipython3",
   "version": "3.4.3"
  }
 },
 "nbformat": 4,
 "nbformat_minor": 2
}
